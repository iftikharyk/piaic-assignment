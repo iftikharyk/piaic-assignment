{
 "cells": [
  {
   "cell_type": "code",
   "execution_count": 3,
   "metadata": {},
   "outputs": [
    {
     "name": "stdout",
     "output_type": "stream",
     "text": [
      "enter the sub177\n",
      "enter the sub266\n",
      "enter the sub399\n",
      "A+\n"
     ]
    }
   ],
   "source": [
    "sub1= int(input(\"enter the sub1\"))\n",
    "sub2= int(input(\"enter the sub2\"))\n",
    "sub3= int(input(\"enter the sub3\"))\n",
    "if sub1 <= 100 and sub2 <= 100 and sub3 <= 100:\n",
    "    total = 300\n",
    "    marks = sub1 + sub2 + sub3\n",
    "    per = marks /total * 100\n",
    "    \n",
    "    if per >= 80:\n",
    "        print(\"A+\")\n",
    "    elif per >= 70:\n",
    "        print(\"A\")\n",
    "    elif per >= 60:\n",
    "        print(\"B\")\n",
    "    elif per >= 50:\n",
    "        print(\"C\")\n",
    "    else:\n",
    "        print(\"F\")\n",
    "else:\n",
    "    print(\"invalid no.\")\n",
    "    \n",
    "    \n",
    "\n"
   ]
  },
  {
   "cell_type": "code",
   "execution_count": null,
   "metadata": {},
   "outputs": [],
   "source": []
  }
 ],
 "metadata": {
  "kernelspec": {
   "display_name": "Python 3",
   "language": "python",
   "name": "python3"
  },
  "language_info": {
   "codemirror_mode": {
    "name": "ipython",
    "version": 3
   },
   "file_extension": ".py",
   "mimetype": "text/x-python",
   "name": "python",
   "nbconvert_exporter": "python",
   "pygments_lexer": "ipython3",
   "version": "3.7.3"
  }
 },
 "nbformat": 4,
 "nbformat_minor": 2
}
